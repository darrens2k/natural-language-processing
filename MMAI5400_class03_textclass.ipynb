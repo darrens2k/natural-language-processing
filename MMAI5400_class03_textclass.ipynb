{
 "cells": [
  {
   "cell_type": "markdown",
   "metadata": {
    "id": "M-rGQcNf5GNC"
   },
   "source": [
    "# Working With Text Data\n",
    "\n",
    "The goal of this tutorial is to explore some of the main scikit-learn tools on a single practical task: analyzing a collection of text documents (newsgroups posts) on twenty different topics.\n",
    "\n",
    "In this section we will see how to:\n",
    "\n",
    "   * load the file contents and the categories\n",
    "   * extract feature vectors suitable for machine learning\n",
    "   * train a linear model to perform categorization\n",
    "   * use a grid search strategy to find a good configuration of both the feature extraction components and the classifier\n",
    "\n",
    "\n",
    "## Required packages\n",
    "\n",
    "```\n",
    "pip install -U sklearn\n",
    "```\n",
    "\n",
    "\n",
    "## Loading the 20 newsgroups dataset\n",
    "\n",
    "\n",
    "The dataset is called \"Twenty Newsgroups\". Here is the official description, quoted from the [website](http://people.csail.mit.edu/jrennie/20Newsgroups/):\n",
    "\n",
    "The 20 Newsgroups data set is a collection of approximately 20,000 newsgroup documents, partitioned (nearly) evenly across 20 different newsgroups. To the best of our knowledge, it was originally collected by Ken Lang, probably for his paper \"Newsweeder: Learning to filter netnews,\" though he does not explicitly mention this collection. The 20 newsgroups collection has become a popular data set for experiments in text applications of machine learning techniques, such as text classification and text clustering.\n",
    "\n",
    "In the following we will use the built-in dataset loader for 20 newsgroups from scikit-learn. Alternatively, it is possible to download the dataset manually from the website and use the [**`sklearn.datasets.load_files`**](https://scikit-learn.org/stable/modules/generated/sklearn.datasets.load_files.html#sklearn.datasets.load_files) function by pointing it to the 20news-bydate-train sub-folder of the uncompressed archive folder.\n",
    "\n",
    "In order to get faster execution times for this first example we will work on a partial dataset with only 4 categories out of the 20 available in the dataset:\n",
    "\n"
   ]
  },
  {
   "cell_type": "code",
   "execution_count": null,
   "metadata": {
    "id": "bw6DGhPH5GNN"
   },
   "outputs": [],
   "source": [
    "categories = ['alt.atheism', 'soc.religion.christian', 'comp.graphics', 'sci.med']"
   ]
  },
  {
   "cell_type": "markdown",
   "metadata": {
    "id": "A0YZYjqU5GNT"
   },
   "source": [
    "We can now load the list of files matching those categories as follows:"
   ]
  },
  {
   "cell_type": "code",
   "execution_count": null,
   "metadata": {
    "id": "bddgnmAk5GNX"
   },
   "outputs": [],
   "source": [
    "from sklearn.datasets import fetch_20newsgroups\n",
    "twenty_train = fetch_20newsgroups(subset='train', categories=categories, shuffle=True, random_state=42)"
   ]
  },
  {
   "cell_type": "markdown",
   "metadata": {
    "id": "aRogffur5GNa"
   },
   "source": [
    "The returned dataset is a `scikit-learn` \"bunch\": a simple holder object with fields that can be both accessed as python dict keys or object attributes for convenience, for instance the target_names holds the list of the requested category names:"
   ]
  },
  {
   "cell_type": "code",
   "execution_count": null,
   "metadata": {
    "colab": {
     "base_uri": "https://localhost:8080/"
    },
    "id": "5oJjH_WL5GNe",
    "outputId": "3933eb57-3030-4c32-d1d4-2ec30da74b22"
   },
   "outputs": [],
   "source": [
    "print(dir(twenty_train))"
   ]
  },
  {
   "cell_type": "code",
   "execution_count": null,
   "metadata": {
    "colab": {
     "base_uri": "https://localhost:8080/"
    },
    "id": "b0hhBkM55GNh",
    "outputId": "c0720543-da00-4d68-8e20-a3d8ae62f596"
   },
   "outputs": [],
   "source": [
    "twenty_train.target_names"
   ]
  },
  {
   "cell_type": "markdown",
   "metadata": {
    "id": "j2KrgBoN5GNk"
   },
   "source": [
    "The files themselves are loaded in memory in the `data` attribute. For reference the filenames are also available:\n"
   ]
  },
  {
   "cell_type": "code",
   "execution_count": null,
   "metadata": {
    "colab": {
     "base_uri": "https://localhost:8080/"
    },
    "id": "VCqmFVj95GNn",
    "outputId": "f871e200-0588-4f2f-9657-c7f5f16ab9f1"
   },
   "outputs": [],
   "source": [
    "print(len(twenty_train.data))\n",
    "print(len(twenty_train.filenames))"
   ]
  },
  {
   "cell_type": "markdown",
   "metadata": {
    "id": "5akdwWfu5GNs"
   },
   "source": [
    "\n",
    "Let’s print the first lines of the first loaded file:"
   ]
  },
  {
   "cell_type": "code",
   "execution_count": null,
   "metadata": {
    "colab": {
     "base_uri": "https://localhost:8080/"
    },
    "id": "iKa9-UHl5GNv",
    "outputId": "ccc79640-f877-4f02-857a-5dc764edcb07"
   },
   "outputs": [],
   "source": [
    "print(\"\\n\".join(twenty_train.data[0].split(\"\\n\")))"
   ]
  },
  {
   "cell_type": "code",
   "execution_count": null,
   "metadata": {
    "colab": {
     "base_uri": "https://localhost:8080/"
    },
    "id": "bC1hUD7v5GNx",
    "outputId": "8b7b8b7c-aa7f-4f71-f777-52be421f2e07"
   },
   "outputs": [],
   "source": [
    "print(twenty_train.target_names[twenty_train.target[0]])"
   ]
  },
  {
   "cell_type": "markdown",
   "metadata": {
    "id": "zwvf1Ado5GNy"
   },
   "source": [
    "Supervised learning algorithms will require a category label for each document in the training set. In this case the category is the name of the newsgroup which also happens to be the name of the folder holding the individual documents.\n",
    "\n",
    "For speed and space efficiency reasons `scikit-learn` loads the target attribute as an array of integers that corresponds to the index of the category name in the `target_names` list. The category integer id of each sample is stored in the `target` attribute:"
   ]
  },
  {
   "cell_type": "code",
   "execution_count": null,
   "metadata": {
    "colab": {
     "base_uri": "https://localhost:8080/"
    },
    "id": "pl8Dix4j5GN0",
    "outputId": "f85b46e7-d7b7-4b65-818f-6f661c5f364c"
   },
   "outputs": [],
   "source": [
    "twenty_train.target[:10]"
   ]
  },
  {
   "cell_type": "markdown",
   "metadata": {
    "id": "v1AB7GhN5GN2"
   },
   "source": [
    "It is possible to get back the category names as follows:"
   ]
  },
  {
   "cell_type": "code",
   "execution_count": null,
   "metadata": {
    "colab": {
     "base_uri": "https://localhost:8080/"
    },
    "id": "XNG8-lL25GN3",
    "outputId": "6f753f19-d372-4f92-f20c-4e98e27db39c"
   },
   "outputs": [],
   "source": [
    "for t in twenty_train.target[:10]:\n",
    "    print(twenty_train.target_names[t])"
   ]
  },
  {
   "cell_type": "markdown",
   "metadata": {
    "id": "szUBDf835GN6"
   },
   "source": [
    "You might have noticed that the samples were shuffled randomly when we called ```fetch_20newsgroups(..., shuffle=True, random_state=42)```: this is useful if you wish to select only a subset of samples to quickly train a model and get a first idea of the results before re-training on the complete dataset later.\n",
    "\n",
    "## Extracting features from text files\n",
    "\n",
    "\n",
    "\n",
    "In order to perform machine learning on text documents, we first need to turn the text content into numerical feature vectors.\n",
    "\n",
    "### Bags of words\n",
    "\n",
    "The most intuitive way to do so is to use a bags of words representation:\n",
    "\n",
    "1. Assign a fixed integer id to each word occurring in any document of the training set (for instance by building a dictionary from words to integer indices).\n",
    "\n",
    "2. For each document ```#i```, count the number of occurrences of each word w and store it in ```X[i, j]``` as the value of feature ```#j``` where ```j``` is the index of word ```w``` in the dictionary. **NOTE**: this is different from the slides and book where we organized our term-frequency table by ```[word, document]```.\n",
    "\n",
    "\n",
    "The bags of words representation implies that ```n_features``` is the number of distinct words in the corpus: this number is typically larger than 100,000.\n",
    "\n",
    "If ```n_samples == 10000```, storing ```X``` as a NumPy array of type float32 would require 10000 x 100000 x 4 bytes = **4GB in RAM** which is barely manageable on a standard laptop.\n",
    "\n",
    "Fortunately, **most values in ```X``` will be zeros** since for a given document less than a few thousand distinct words will be used. For this reason we say that bags of words are typically **high-dimensional** sparse datasets. We can save a lot of memory by only storing the non-zero parts of the feature vectors in memory.\n",
    "\n",
    "```scipy.sparse``` matrices are data structures that do exactly this, and ```scikit-learn``` has built-in support for these structures.\n",
    "\n",
    "## Tokenizing text with ```scikit-learn```\n",
    "\n",
    "Text preprocessing, tokenizing and filtering of stopwords are all included in [**CountVectorizer**](https://scikit-learn.org/stable/modules/generated/sklearn.feature_extraction.text.CountVectorizer.html#sklearn.feature_extraction.text.CountVectorizer), which builds a dictionary of features and transforms documents to feature vectors:"
   ]
  },
  {
   "cell_type": "code",
   "execution_count": null,
   "metadata": {
    "colab": {
     "base_uri": "https://localhost:8080/"
    },
    "id": "nnWoo23e5GN_",
    "outputId": "079a78b6-83cf-4df7-df58-fadbf9b66cc4"
   },
   "outputs": [],
   "source": [
    "from sklearn.feature_extraction.text import CountVectorizer\n",
    "count_vect = CountVectorizer()\n",
    "X_train_counts = count_vect.fit_transform(twenty_train.data)\n",
    "X_train_counts.shape"
   ]
  },
  {
   "cell_type": "markdown",
   "metadata": {
    "id": "u70xhB1B5GOB"
   },
   "source": [
    "**Question 1:** How many documents does the corpus contain?\n",
    "\n",
    "**Question 2:** What is the size of the vocabulary?\n",
    "\n",
    "**Question 3:** What is the count of the most frequent word (in the document that is is most frequent)?"
   ]
  },
  {
   "cell_type": "markdown",
   "metadata": {
    "id": "obKKe9fs5GOC"
   },
   "source": [
    "[**CountVectorizer**](https://scikit-learn.org/stable/modules/generated/sklearn.feature_extraction.text.CountVectorizer.html#sklearn.feature_extraction.text.CountVectorizer) supports counts of N-grams of words or consecutive characters. Once fitted, the vectorizer has built a dictionary of feature indices:"
   ]
  },
  {
   "cell_type": "code",
   "execution_count": null,
   "metadata": {
    "colab": {
     "base_uri": "https://localhost:8080/"
    },
    "id": "3xd4Mo3n5GOD",
    "outputId": "21d61091-402a-4362-f7db-806eadf06110"
   },
   "outputs": [],
   "source": [
    "count_vect.vocabulary_['algorithm']"
   ]
  },
  {
   "cell_type": "markdown",
   "metadata": {
    "id": "2f7zae355GOF"
   },
   "source": [
    "The index value of a word in the vocabulary is linked to its frequency in the whole training corpus.\n",
    "\n",
    "### From occurrences to frequencies\n",
    "\n",
    "Occurrence count is a good start but there is an issue: longer documents will have higher average count values than shorter documents, even though they might talk about the same topics.\n",
    "\n",
    "To avoid these potential discrepancies it suffices to divide the number of occurrences of each word in a document by the total number of words in the document: these new features are called ```tf``` for Term Frequencies.\n",
    "\n",
    "Another refinement on top of ```tf``` is to downscale weights for words that occur in many documents in the corpus and are therefore less informative than those that occur only in a smaller portion of the corpus.\n",
    "\n",
    "This downscaling is called *tf–idf* for “Term Frequency times Inverse Document Frequency”.\n",
    "\n",
    "Both **tf** and **tf–idf** can be computed as follows using [**TfidfTransformer**](https://scikit-learn.org/stable/modules/generated/sklearn.feature_extraction.text.TfidfTransformer.html#sklearn.feature_extraction.text.TfidfTransformer):"
   ]
  },
  {
   "cell_type": "code",
   "execution_count": null,
   "metadata": {
    "colab": {
     "base_uri": "https://localhost:8080/"
    },
    "id": "x0tlxP_85GOI",
    "outputId": "0bb3b7c9-cdfc-4730-8cd2-0faee7ebbba6"
   },
   "outputs": [],
   "source": [
    "from sklearn.feature_extraction.text import TfidfTransformer\n",
    "tf_transformer = TfidfTransformer(use_idf=True).fit(X_train_counts)\n",
    "X_train_tf = tf_transformer.transform(X_train_counts)\n",
    "X_train_tf.shape"
   ]
  },
  {
   "cell_type": "markdown",
   "metadata": {
    "id": "BvCewejj5GOL"
   },
   "source": [
    "In the above example-code, we firstly use the ```fit(..)``` method to fit our estimator to the data and secondly the ```transform(..)``` method to transform our count-matrix to a tf-idf representation. These two steps can be combined to achieve the same end result faster by skipping redundant processing. This is done through using the ```fit_transform(..)``` method as shown below, and as mentioned in the note in the previous section:"
   ]
  },
  {
   "cell_type": "code",
   "execution_count": null,
   "metadata": {
    "colab": {
     "base_uri": "https://localhost:8080/"
    },
    "id": "1-xpp1oD5GOM",
    "outputId": "e913d451-f567-4732-8256-4ab24d1cdc41"
   },
   "outputs": [],
   "source": [
    "tfidf_transformer = TfidfTransformer()\n",
    "X_train_tfidf = tfidf_transformer.fit_transform(X_train_counts)\n",
    "X_train_tfidf.shape"
   ]
  },
  {
   "cell_type": "markdown",
   "metadata": {
    "id": "gHbeyCYj5GOO"
   },
   "source": [
    "## Training a classifier\n",
    "\n",
    "Now that we have our features, we can train a classifier to try to predict the category of a post. Let’s start with a [naïve Bayes](https://scikit-learn.org/stable/modules/naive_bayes.html#naive-bayes) classifier, which provides a nice baseline for this task. ```scikit-learn``` includes several variants of this classifier; the one most suitable for word counts is the multinomial variant:"
   ]
  },
  {
   "cell_type": "code",
   "execution_count": null,
   "metadata": {
    "id": "SjQm0ToS5GOP"
   },
   "outputs": [],
   "source": [
    "from sklearn.naive_bayes import MultinomialNB\n",
    "clf = MultinomialNB().fit(X_train_tfidf, twenty_train.target)"
   ]
  },
  {
   "cell_type": "markdown",
   "metadata": {
    "id": "mVp9GJK_5GOR"
   },
   "source": [
    "To try to predict the outcome on a new document we need to extract the features using almost the same feature extracting chain as before. The difference is that we call ```transform``` instead of ```fit_transform``` on the transformers, since they have already been fit to the training set:"
   ]
  },
  {
   "cell_type": "code",
   "execution_count": null,
   "metadata": {
    "colab": {
     "base_uri": "https://localhost:8080/"
    },
    "id": "1UxfPhIn5GOS",
    "outputId": "0ae5049d-95f7-4b4d-8f58-830fb9ea577f"
   },
   "outputs": [],
   "source": [
    "docs_new = ['God is love', 'OpenGL on the GPU is fast']\n",
    "X_new_counts = count_vect.transform(docs_new)\n",
    "X_new_tfidf = tfidf_transformer.transform(X_new_counts)\n",
    "\n",
    "predicted = clf.predict(X_new_tfidf)\n",
    "\n",
    "for doc, category in zip(docs_new, predicted):\n",
    "    print('%r => %s' % (doc, twenty_train.target_names[category]))"
   ]
  },
  {
   "cell_type": "markdown",
   "metadata": {
    "id": "6SZjrelV5GOU"
   },
   "source": [
    "## Building a pipeline\n",
    "\n",
    "In order to make the vectorizer => transformer => classifier easier to work with, ```scikit-learn``` provides a [**Pipeline**](https://scikit-learn.org/stable/modules/generated/sklearn.pipeline.Pipeline.html#sklearn.pipeline.Pipeline) class that behaves like a compound classifier:"
   ]
  },
  {
   "cell_type": "code",
   "execution_count": null,
   "metadata": {
    "id": "IHWc3le65GOV"
   },
   "outputs": [],
   "source": [
    "from sklearn.pipeline import Pipeline\n",
    "text_clf = Pipeline([\n",
    "    ('vect', CountVectorizer()),\n",
    "    ('tfidf', TfidfTransformer()),\n",
    "    ('clf', MultinomialNB()),\n",
    "])"
   ]
  },
  {
   "cell_type": "markdown",
   "metadata": {
    "id": "KXAVT4_A5GOX"
   },
   "source": [
    "The names ```vect```, ```tfidf``` and ```clf``` (classifier) are arbitrary. We will use them to perform grid search for suitable hyperparameters below. We can now train the model with a single command:"
   ]
  },
  {
   "cell_type": "code",
   "execution_count": null,
   "metadata": {
    "colab": {
     "base_uri": "https://localhost:8080/"
    },
    "id": "3v6nZrJ05GOY",
    "outputId": "7169bc6d-8060-4838-b08c-cc2a0249e585"
   },
   "outputs": [],
   "source": [
    "text_clf.fit(twenty_train.data, twenty_train.target)"
   ]
  },
  {
   "cell_type": "markdown",
   "metadata": {
    "id": "sbQRP3Ym5GOa"
   },
   "source": [
    "## Evaluation of the performance on the test set\n",
    "\n",
    "Evaluating the predictive accuracy of the model is equally easy:"
   ]
  },
  {
   "cell_type": "code",
   "execution_count": null,
   "metadata": {
    "colab": {
     "base_uri": "https://localhost:8080/"
    },
    "id": "NfPMOpYD5GOc",
    "outputId": "caa52836-0eba-435e-a737-b00215c26681"
   },
   "outputs": [],
   "source": [
    "import numpy as np\n",
    "twenty_test = fetch_20newsgroups(subset='test',\n",
    "    categories=categories, shuffle=True, random_state=42)\n",
    "docs_test = twenty_test.data\n",
    "predicted = text_clf.predict(docs_test)\n",
    "np.mean(predicted == twenty_test.target)"
   ]
  },
  {
   "cell_type": "markdown",
   "metadata": {
    "id": "iPCpUGzn5GOe"
   },
   "source": [
    "We achieved 83.5% accuracy. Let’s see if we can do better with a linear [support vector machine (SVM)](https://scikit-learn.org/stable/modules/svm.html#svm), which is widely regarded as one of the best text classification algorithms (although it’s also a bit slower than naïve Bayes). We can change the learner by simply plugging a different classifier object into our pipeline:"
   ]
  },
  {
   "cell_type": "code",
   "execution_count": null,
   "metadata": {
    "colab": {
     "base_uri": "https://localhost:8080/"
    },
    "id": "KPcIJfYI5GOf",
    "outputId": "cfd9a7b2-a86e-49ef-dcef-852e2ef44bfc"
   },
   "outputs": [],
   "source": [
    "from sklearn.linear_model import SGDClassifier\n",
    "text_clf = Pipeline([\n",
    "    ('vect', CountVectorizer()),\n",
    "    ('tfidf', TfidfTransformer()),\n",
    "    ('clf', SGDClassifier(loss='hinge', penalty='l2',\n",
    "                          alpha=1e-3, random_state=42,\n",
    "                          max_iter=5, tol=None)),\n",
    "])\n",
    "\n",
    "text_clf.fit(twenty_train.data, twenty_train.target)\n",
    "\n",
    "predicted = text_clf.predict(docs_test)\n",
    "np.mean(predicted == twenty_test.target)"
   ]
  },
  {
   "cell_type": "markdown",
   "metadata": {
    "id": "cxZRNk6P5GOh"
   },
   "source": [
    "We achieved 91.0% accuracy using the SVM. ```scikit-learn``` provides further utilities for more detailed performance analysis of the results:"
   ]
  },
  {
   "cell_type": "code",
   "execution_count": null,
   "metadata": {
    "colab": {
     "base_uri": "https://localhost:8080/"
    },
    "id": "EQVQfMRN5GOi",
    "outputId": "1b8abd0b-0af7-4ab1-e39f-0594b32009e4"
   },
   "outputs": [],
   "source": [
    "from sklearn import metrics\n",
    "print(metrics.classification_report(twenty_test.target, predicted,\n",
    "    target_names=twenty_test.target_names))"
   ]
  },
  {
   "cell_type": "code",
   "execution_count": null,
   "metadata": {
    "colab": {
     "base_uri": "https://localhost:8080/"
    },
    "id": "AR8Afos65GOj",
    "outputId": "259261bc-ffdb-4d1c-80a5-1e4c57e6f6cc"
   },
   "outputs": [],
   "source": [
    "metrics.confusion_matrix(twenty_test.target, predicted)"
   ]
  },
  {
   "cell_type": "markdown",
   "metadata": {
    "id": "ud6dKCBq5GOl"
   },
   "source": [
    "As expected the confusion matrix shows that posts from the newsgroups on atheism and Christianity are more often confused for one another than with computer graphics.\n",
    "\n",
    "## Parameter tuning using grid search\n",
    "\n",
    "We’ve already encountered some parameters such as ```use_idf``` in the ```TfidfTransformer```. Classifiers tend to have many parameters as well; e.g., ```MultinomialNB``` includes a smoothing parameter ```alpha``` and ```SGDClassifier``` has a penalty parameter ```alpha``` and configurable loss and penalty terms in the objective function (see the module documentation, or use the Python ```help``` function to get a description of these).\n",
    "\n",
    "Instead of tweaking the parameters of the various components of the chain, it is possible to run an exhaustive search of the best parameters on a grid of possible values. We try out all classifiers on either words or bigrams, with or without idf, and with a penalty parameter of either 0.01 or 0.001 for the linear SVM:"
   ]
  },
  {
   "cell_type": "code",
   "execution_count": null,
   "metadata": {
    "id": "HNuytM5D5GOm"
   },
   "outputs": [],
   "source": [
    "from sklearn.model_selection import GridSearchCV\n",
    "parameters = {\n",
    "    'vect__ngram_range': [(1, 1), (1, 2)],\n",
    "    'tfidf__use_idf': (True, False),\n",
    "    'clf__alpha': (1e-2, 1e-3),\n",
    "}"
   ]
  },
  {
   "cell_type": "markdown",
   "metadata": {
    "id": "EP8U8Xn85GOo"
   },
   "source": [
    "Obviously, such an exhaustive search can be expensive. If we have multiple CPU cores at our disposal, we can tell the grid searcher to try these eight parameter combinations in parallel with the ```n_jobs``` parameter. If we give this parameter a value of ```-1```, grid search will detect how many cores are installed and use them all:"
   ]
  },
  {
   "cell_type": "code",
   "execution_count": null,
   "metadata": {
    "id": "h0cSZ8l55GOp"
   },
   "outputs": [],
   "source": [
    "gs_clf = GridSearchCV(text_clf, parameters, cv=5, n_jobs=-1)"
   ]
  },
  {
   "cell_type": "markdown",
   "metadata": {
    "id": "eeULYY6Q5GOr"
   },
   "source": [
    "The grid search instance behaves like a normal ```scikit-learn``` model. Let’s perform the search on a smaller subset of the training data to speed up the computation:"
   ]
  },
  {
   "cell_type": "code",
   "execution_count": null,
   "metadata": {
    "id": "r0hEXU_i5GOr"
   },
   "outputs": [],
   "source": [
    "gs_clf = gs_clf.fit(twenty_train.data, twenty_train.target)"
   ]
  },
  {
   "cell_type": "markdown",
   "metadata": {
    "id": "l2H9mC8U5GOs"
   },
   "source": [
    "The result of calling ```fit``` on a ```GridSearchCV``` object is a classifier that we can use to ```predict```:"
   ]
  },
  {
   "cell_type": "code",
   "execution_count": null,
   "metadata": {
    "colab": {
     "base_uri": "https://localhost:8080/",
     "height": 35
    },
    "id": "XiprAsoa5GOu",
    "outputId": "9bf59bb2-5344-4e94-d6f9-b41b478c5189"
   },
   "outputs": [],
   "source": [
    "twenty_train.target_names[gs_clf.predict(['God is love'])[0]]"
   ]
  },
  {
   "cell_type": "markdown",
   "metadata": {
    "id": "wDDGysH15GOx"
   },
   "source": [
    "The object’s ```best_score_``` and ```best_params_``` attributes store the best mean score and the parameters setting corresponding to that score:"
   ]
  },
  {
   "cell_type": "code",
   "execution_count": null,
   "metadata": {
    "colab": {
     "base_uri": "https://localhost:8080/"
    },
    "id": "nfbPpTnu5GOy",
    "outputId": "5541ee5b-327c-4d96-d02b-abe0f23dd48e"
   },
   "outputs": [],
   "source": [
    "gs_clf.best_score_\n",
    "\n",
    "for param_name in sorted(parameters.keys()):\n",
    "    print(\"%s: %r\" % (param_name, gs_clf.best_params_[param_name]))"
   ]
  },
  {
   "cell_type": "markdown",
   "metadata": {
    "id": "VFDqOflG5GO1"
   },
   "source": [
    "A more detailed summary of the search is available at ```gs_clf.cv_results_```.\n",
    "\n",
    "The ```cv_results_``` parameter can be easily imported into pandas as a ```DataFrame``` for further inspection.\n",
    "\n",
    "# Exercise: Language identification\n",
    "\n",
    "* Write a text classification pipeline using a custom preprocessor and `CharNGramAnalyzer` using data from Wikipedia articles as training set.\n",
    "* Evaluate the performance on some held out test set.\n",
    "\n",
    "Start by downloading the dataset with \n",
    "```Python\n",
    "%run fetch_languagedata.py\n",
    "```"
   ]
  },
  {
   "cell_type": "code",
   "execution_count": null,
   "metadata": {
    "id": "1_WJWfEM5GO3"
   },
   "outputs": [],
   "source": [
    "%run fetch_languagedata.py"
   ]
  },
  {
   "cell_type": "markdown",
   "metadata": {
    "id": "ovNsqo4b5GPl"
   },
   "source": [
    "Loaded the dataset with the ```load_files``` helper function from sklearn."
   ]
  },
  {
   "cell_type": "code",
   "execution_count": null,
   "metadata": {
    "colab": {
     "base_uri": "https://localhost:8080/",
     "height": 306
    },
    "id": "vjuD7Nhs5GPm",
    "outputId": "53718858-22e8-4803-f9ba-c342b716eb39"
   },
   "outputs": [],
   "source": [
    "from  sklearn.datasets import load_files\n",
    "dataset = load_files('paragraphs', shuffle=True)"
   ]
  },
  {
   "cell_type": "code",
   "execution_count": null,
   "metadata": {
    "id": "8SM9KLtb5GPn"
   },
   "outputs": [],
   "source": []
  }
 ],
 "metadata": {
  "colab": {
   "provenance": []
  },
  "kernelspec": {
   "display_name": "Python 3 (ipykernel)",
   "language": "python",
   "name": "python3"
  },
  "language_info": {
   "codemirror_mode": {
    "name": "ipython",
    "version": 3
   },
   "file_extension": ".py",
   "mimetype": "text/x-python",
   "name": "python",
   "nbconvert_exporter": "python",
   "pygments_lexer": "ipython3",
   "version": "3.10.6"
  }
 },
 "nbformat": 4,
 "nbformat_minor": 1
}
